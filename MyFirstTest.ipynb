{
 "cells": [
  {
   "cell_type": "code",
   "execution_count": 1,
   "id": "21562bbd",
   "metadata": {},
   "outputs": [],
   "source": [
    "x = 'this is a '"
   ]
  },
  {
   "cell_type": "code",
   "execution_count": 2,
   "id": "c3d8f498",
   "metadata": {},
   "outputs": [],
   "source": [
    "y = 'really powerful test'"
   ]
  },
  {
   "cell_type": "code",
   "execution_count": 3,
   "id": "00a492a0",
   "metadata": {},
   "outputs": [
    {
     "name": "stdout",
     "output_type": "stream",
     "text": [
      "this is a really powerful test\n"
     ]
    }
   ],
   "source": [
    "print(x+y)"
   ]
  },
  {
   "cell_type": "code",
   "execution_count": null,
   "id": "3cfe0ab2",
   "metadata": {},
   "outputs": [],
   "source": []
  }
 ],
 "metadata": {
  "kernelspec": {
   "display_name": "Python 3 (ipykernel)",
   "language": "python",
   "name": "python3"
  },
  "language_info": {
   "codemirror_mode": {
    "name": "ipython",
    "version": 3
   },
   "file_extension": ".py",
   "mimetype": "text/x-python",
   "name": "python",
   "nbconvert_exporter": "python",
   "pygments_lexer": "ipython3",
   "version": "3.11.5"
  }
 },
 "nbformat": 4,
 "nbformat_minor": 5
}
